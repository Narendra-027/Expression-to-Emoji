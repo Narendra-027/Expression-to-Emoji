{
  "nbformat": 4,
  "nbformat_minor": 0,
  "metadata": {
    "colab": {
      "provenance": [],
      "include_colab_link": true
    },
    "kernelspec": {
      "name": "python3",
      "display_name": "Python 3"
    },
    "language_info": {
      "name": "python"
    }
  },
  "cells": [
    {
      "cell_type": "markdown",
      "metadata": {
        "id": "view-in-github",
        "colab_type": "text"
      },
      "source": [
        "<a href=\"https://colab.research.google.com/github/Narendra-027/Expression-to-Emoji/blob/main/imogify.ipynb\" target=\"_parent\"><img src=\"https://colab.research.google.com/assets/colab-badge.svg\" alt=\"Open In Colab\"/></a>"
      ]
    },
    {
      "cell_type": "markdown",
      "source": [
        "In the below steps we will build a convolution neural network architecture and train the model on `FER2013 dataset` for Emotion recognition from images.\n",
        "\n",
        "- Download the dataset from the [link](https://www.kaggle.com/msambare/fer2013?) Extract it in your folder with separate train and test directories.\n",
        "- Additionly you will be needing `haarcascade_frontalface_default.xml` file. Downlad or copy the file in a xml file from this [link](https://github.com/kipr/opencv/blob/master/data/haarcascades/haarcascade_frontalface_default.xml) in your folder"
      ],
      "metadata": {
        "id": "YUpwIoxDDvcZ"
      }
    },
    {
      "cell_type": "markdown",
      "source": [
        "Import required libraries"
      ],
      "metadata": {
        "id": "fmsm0XWN7a6c"
      }
    },
    {
      "cell_type": "code",
      "execution_count": null,
      "metadata": {
        "id": "XnQTErKARRHp"
      },
      "outputs": [],
      "source": [
        "import numpy as np\n",
        "import cv2\n",
        "from keras.models import Sequential\n",
        "from keras.layers import Dense, Dropout, Flatten\n",
        "from keras.layers import Conv2D\n",
        "from keras.optimizers import Adam\n",
        "from keras.layers import MaxPooling2D\n",
        "from keras.preprocessing.image import ImageDataGenerator"
      ]
    },
    {
      "cell_type": "markdown",
      "source": [
        "Mount Google drive to accces the files in Colab"
      ],
      "metadata": {
        "id": "d5jtfPYr7nGn"
      }
    },
    {
      "cell_type": "code",
      "source": [
        "from google.colab import drive\n",
        "drive.mount('/content/drive/', force_remount=True)"
      ],
      "metadata": {
        "colab": {
          "base_uri": "https://localhost:8080/"
        },
        "id": "CaEZB9SvUU2H",
        "outputId": "72909221-2f4e-45df-eb3c-5d54574f0ce3"
      },
      "execution_count": null,
      "outputs": [
        {
          "output_type": "stream",
          "name": "stdout",
          "text": [
            "Mounted at /content/drive/\n"
          ]
        }
      ]
    },
    {
      "cell_type": "code",
      "source": [
        "# paths of train and test data\n",
        "train_dir = '/content/drive/MyDrive/Data Science/Emojify/train'\n",
        "val_dir = '/content/drive/MyDrive/Data Science/Emojify/test'\n",
        "\n",
        "\n",
        "\n",
        "train_datagen = ImageDataGenerator(rescale=1./255)\n",
        "val_datagen = ImageDataGenerator(rescale=1./255)\n",
        "\n",
        "train_generator = train_datagen.flow_from_directory(\n",
        "        train_dir,\n",
        "        target_size=(48,48),\n",
        "        batch_size=64,\n",
        "        color_mode=\"grayscale\",\n",
        "        class_mode='categorical')\n",
        "\n",
        "validation_generator = val_datagen.flow_from_directory(\n",
        "        val_dir,\n",
        "        target_size=(48,48),\n",
        "        batch_size=64,\n",
        "        color_mode=\"grayscale\",\n",
        "        class_mode='categorical')\n"
      ],
      "metadata": {
        "colab": {
          "base_uri": "https://localhost:8080/"
        },
        "id": "UWibmYkKyvzh",
        "outputId": "6e8f2466-2a71-4d02-e1cf-a7b5ced38bfb"
      },
      "execution_count": null,
      "outputs": [
        {
          "output_type": "stream",
          "name": "stdout",
          "text": [
            "Found 28737 images belonging to 7 classes.\n",
            "Found 7178 images belonging to 7 classes.\n"
          ]
        }
      ]
    },
    {
      "cell_type": "markdown",
      "source": [
        "Build and Compile the convolution network architecture:"
      ],
      "metadata": {
        "id": "ZOojHsYG-vNx"
      }
    },
    {
      "cell_type": "code",
      "source": [
        "emotion_model = Sequential()\n",
        "\n",
        "emotion_model.add(Conv2D(32, kernel_size=(3, 3), activation='relu', input_shape=(48,48,1)))\n",
        "emotion_model.add(Conv2D(64, kernel_size=(3, 3), activation='relu'))\n",
        "emotion_model.add(MaxPooling2D(pool_size=(2, 2)))\n",
        "emotion_model.add(Dropout(0.25))\n",
        "\n",
        "emotion_model.add(Conv2D(128, kernel_size=(3, 3), activation='relu'))\n",
        "emotion_model.add(MaxPooling2D(pool_size=(2, 2)))\n",
        "emotion_model.add(Conv2D(128, kernel_size=(3, 3), activation='relu'))\n",
        "emotion_model.add(MaxPooling2D(pool_size=(2, 2)))\n",
        "emotion_model.add(Dropout(0.25))\n",
        "\n",
        "emotion_model.add(Flatten())\n",
        "emotion_model.add(Dense(1024, activation='relu'))\n",
        "emotion_model.add(Dropout(0.5))\n",
        "emotion_model.add(Dense(7, activation='softmax'))\n",
        "\n",
        "emotion_model.compile(loss='categorical_crossentropy',optimizer=Adam(lr=0.0001, decay=1e-6),metrics=['accuracy'])"
      ],
      "metadata": {
        "id": "eL-OnGbzzz42"
      },
      "execution_count": null,
      "outputs": []
    },
    {
      "cell_type": "markdown",
      "source": [
        "Train and Save the Model weights:"
      ],
      "metadata": {
        "id": "jNuZObW4-3vL"
      }
    },
    {
      "cell_type": "code",
      "source": [
        "cv2.ocl.setUseOpenCL(False)\n",
        "\n",
        "emotion_dict = {0: \"Angry\", 1: \"Disgusted\", 2: \"Fearful\", 3: \"Happy\", 4: \"Neutral\", 5: \"Sad\", 6: \"Surprised\"}\n",
        "emotion_model_info = emotion_model.fit_generator(\n",
        "        train_generator,\n",
        "        steps_per_epoch=28709 // 64,\n",
        "        epochs=5,\n",
        "        validation_data=validation_generator,\n",
        "        validation_steps=7178 // 64)\n",
        "emotion_model.save_weights('emotion_model.h5')"
      ],
      "metadata": {
        "colab": {
          "base_uri": "https://localhost:8080/"
        },
        "id": "LV4E_Gt6z6sL",
        "outputId": "8f2d5987-713e-45fc-8287-50f7d6c64172"
      },
      "execution_count": null,
      "outputs": [
        {
          "output_type": "stream",
          "name": "stdout",
          "text": [
            "Epoch 1/5\n"
          ]
        },
        {
          "output_type": "stream",
          "name": "stderr",
          "text": [
            "<ipython-input-10-23d2469f49aa>:4: UserWarning: `Model.fit_generator` is deprecated and will be removed in a future version. Please use `Model.fit`, which supports generators.\n",
            "  emotion_model_info = emotion_model.fit_generator(\n"
          ]
        },
        {
          "output_type": "stream",
          "name": "stdout",
          "text": [
            "448/448 [==============================] - 9291s 21s/step - loss: 1.8039 - accuracy: 0.2600 - val_loss: 1.7049 - val_accuracy: 0.3408\n",
            "Epoch 2/5\n",
            "448/448 [==============================] - 539s 1s/step - loss: 1.6293 - accuracy: 0.3640 - val_loss: 1.5639 - val_accuracy: 0.4053\n",
            "Epoch 3/5\n",
            "448/448 [==============================] - 544s 1s/step - loss: 1.5308 - accuracy: 0.4101 - val_loss: 1.4671 - val_accuracy: 0.4353\n",
            "Epoch 4/5\n",
            "448/448 [==============================] - 570s 1s/step - loss: 1.4623 - accuracy: 0.4411 - val_loss: 1.4130 - val_accuracy: 0.4658\n",
            "Epoch 5/5\n",
            "448/448 [==============================] - 536s 1s/step - loss: 1.4028 - accuracy: 0.4658 - val_loss: 1.3646 - val_accuracy: 0.4879\n"
          ]
        }
      ]
    },
    {
      "cell_type": "markdown",
      "source": [
        "Using openCV haarcascade xml detect the bounding boxes of face in the webcam and predict the emotions:"
      ],
      "metadata": {
        "id": "X5G0M40d_Ixp"
      }
    },
    {
      "cell_type": "code",
      "source": [
        "cap = cv2.VideoCapture(0)\n",
        "while True:\n",
        "    # Find haar cascade to draw bounding box around face\n",
        "    ret, frame = cap.read()\n",
        "    if not ret:\n",
        "        break\n",
        "    bounding_box = cv2.CascadeClassifier('/content/drive/MyDrive/Data Science/Emojify/utilities/haarcascade_frontalface_default.xml')\n",
        "    gray_frame = cv2.cvtColor(frame, cv2.COLOR_BGR2gray_frame)\n",
        "    num_faces = bounding_box.detectMultiScale(gray_frame,scaleFactor=1.3, minNeighbors=5)\n",
        "\n",
        "    for (x, y, w, h) in num_faces:\n",
        "        cv2.rectangle(frame, (x, y-50), (x+w, y+h+10), (255, 0, 0), 2)\n",
        "        roi_gray_frame = gray_frame[y:y + h, x:x + w]\n",
        "        cropped_img = np.expand_dims(np.expand_dims(cv2.resize(roi_gray_frame, (48, 48)), -1), 0)\n",
        "        emotion_prediction = emotion_model.predict(cropped_img)\n",
        "        maxindex = int(np.argmax(emotion_prediction))\n",
        "        cv2.putText(frame, emotion_dict[maxindex], (x+20, y-60), cv2.FONT_HERSHEY_SIMPLEX, 1, (255, 255, 255), 2, cv2.LINE_AA)\n",
        "\n",
        "    cv2.imshow('Video', cv2.resize(frame,(1200,860),interpolation = cv2.INTER_CUBIC))\n",
        "    if cv2.waitKey(1) & 0xFF == ord('q'):\n",
        "        break\n",
        "\n",
        "cap.release()\n",
        "cv2.destroyAllWindows()"
      ],
      "metadata": {
        "id": "H7lTTfFz0rEE"
      },
      "execution_count": null,
      "outputs": []
    },
    {
      "cell_type": "markdown",
      "source": [
        "# Test the Model"
      ],
      "metadata": {
        "id": "TVTWoOJbArlN"
      }
    },
    {
      "cell_type": "markdown",
      "source": [
        "import required libraries"
      ],
      "metadata": {
        "id": "2Agki8wPBQJ9"
      }
    },
    {
      "cell_type": "code",
      "source": [
        "import tkinter as tk\n",
        "from tkinter import *\n",
        "from PIL import Image, ImageTk\n",
        "import os"
      ],
      "metadata": {
        "id": "K8K8nuQBBOuE"
      },
      "execution_count": null,
      "outputs": []
    },
    {
      "cell_type": "markdown",
      "source": [
        "Create the sequential model and use the weights which we saved earlier"
      ],
      "metadata": {
        "id": "kzrCKU0LBnGG"
      }
    },
    {
      "cell_type": "code",
      "source": [
        "emotion_model = Sequential()\n",
        "emotion_model.add(Conv2D(32, kernel_size=(3, 3), activation='relu', input_shape=(48,48,1)))\n",
        "emotion_model.add(Conv2D(64, kernel_size=(3, 3), activation='relu'))\n",
        "emotion_model.add(MaxPooling2D(pool_size=(2, 2)))\n",
        "emotion_model.add(Dropout(0.25))\n",
        "emotion_model.add(Conv2D(128, kernel_size=(3, 3), activation='relu'))\n",
        "emotion_model.add(MaxPooling2D(pool_size=(2, 2)))\n",
        "emotion_model.add(Conv2D(128, kernel_size=(3, 3), activation='relu'))\n",
        "emotion_model.add(MaxPooling2D(pool_size=(2, 2)))\n",
        "emotion_model.add(Dropout(0.25))\n",
        "emotion_model.add(Flatten())\n",
        "emotion_model.add(Dense(1024, activation='relu'))\n",
        "emotion_model.add(Dropout(0.5))\n",
        "emotion_model.add(Dense(7, activation='softmax'))\n",
        "emotion_model.load_weights('emotion_model.h5')"
      ],
      "metadata": {
        "id": "DdosoqHvBd3c"
      },
      "execution_count": null,
      "outputs": []
    },
    {
      "cell_type": "code",
      "source": [
        "cv2.ocl.setUseOpenCL(False)\n",
        "emotion_dict = {0: \"   Angry   \", 1: \"Disgusted\", 2: \"  Fearful  \", 3: \"   Happy   \", 4: \"  Neutral  \", 5: \"    Sad    \", 6: \"Surprised\"}\n"
      ],
      "metadata": {
        "id": "UGPUsYAsBuxw"
      },
      "execution_count": null,
      "outputs": []
    },
    {
      "cell_type": "markdown",
      "source": [],
      "metadata": {
        "id": "YvvBHRvbB89n"
      }
    },
    {
      "cell_type": "code",
      "source": [
        "emoji_dist={0:\"/content/drive/MyDrive/Data Science/Emojify/emoji-creator-project-code/emojis/angry.png\",\n",
        "            1:\"/content/drive/MyDrive/Data Science/Emojify/emoji-creator-project-code/emojis/disgusted.png\",\n",
        "            2:\"/content/drive/MyDrive/Data Science/Emojify/emoji-creator-project-code/emojis/fearful.png\",\n",
        "            3:\"/content/drive/MyDrive/Data Science/Emojify/emoji-creator-project-code/emojis/happy.png\",\n",
        "            4:\"/content/drive/MyDrive/Data Science/Emojify/emoji-creator-project-code/emojis/neutral.png\",\n",
        "            5:\"/content/drive/MyDrive/Data Science/Emojify/emoji-creator-project-code/emojis/sad.png\",\n",
        "            6:\"/content/drive/MyDrive/Data Science/Emojify/emoji-creator-project-code/emojis/surpriced.png\"}\n",
        "\n",
        "global last_frame1\n",
        "last_frame1 = np.zeros((480, 640, 3), dtype=np.uint8)\n",
        "global cap1\n",
        "show_text=[0]\n",
        "\n",
        "def show_vid():\n",
        "    cap1 = cv2.VideoCapture(0)\n",
        "    if not cap1.isOpened():\n",
        "        print(\"cant open the camera1\")\n",
        "    flag1, frame1 = cap1.read()\n",
        "    frame1 = cv2.resize(frame1,(600,500))\n",
        "    bounding_box = cv2.CascadeClassifier('/content/drive/MyDrive/Data Science/Emojify/utilities/haarcascade_frontalface_default.xml')\n",
        "    gray_frame = cv2.cvtColor(frame1, cv2.COLOR_BGR2GRAY)\n",
        "    num_faces = bounding_box.detectMultiScale(gray_frame,scaleFactor=1.3, minNeighbors=5)\n",
        "    for (x, y, w, h) in num_faces:\n",
        "        cv2.rectangle(frame1, (x, y-50), (x+w, y+h+10), (255, 0, 0), 2)\n",
        "        roi_gray_frame = gray_frame[y:y + h, x:x + w]\n",
        "        cropped_img = np.expand_dims(np.expand_dims(cv2.resize(roi_gray_frame, (48, 48)), -1), 0)\n",
        "        prediction = emotion_model.predict(cropped_img)\n",
        "\n",
        "        maxindex = int(np.argmax(prediction))\n",
        "        cv2.putText(frame1, emotion_dict[maxindex], (x+20, y-60), cv2.FONT_HERSHEY_SIMPLEX, 1, (255, 255, 255), 2, cv2.LINE_AA)\n",
        "        show_text[0]=maxindex\n",
        "    if flag1 is None:\n",
        "        print (\"Major error!\")\n",
        "    elif flag1:\n",
        "        global last_frame1\n",
        "        last_frame1 = frame1.copy()\n",
        "        pic = cv2.cvtColor(last_frame1, cv2.COLOR_BGR2RGB)\n",
        "        img = Image.fromarray(pic)\n",
        "        imgtk = ImageTk.PhotoImage(image=img)\n",
        "        lmain.imgtk = imgtk\n",
        "        lmain.configure(image=imgtk)\n",
        "        lmain.after(10, show_vid)\n",
        "    if cv2.waitKey(1) & 0xFF == ord('q'):\n",
        "        exit()\n",
        "\n",
        "\n",
        "def show_vid2():\n",
        "    frame2=cv2.imread(emoji_dist[show_text[0]])\n",
        "    pic2=cv2.cvtColor(frame2,cv2.COLOR_BGR2RGB)\n",
        "    img2=Image.fromarray(frame2)\n",
        "    imgtk2=ImageTk.PhotoImage(image=img2)\n",
        "    lmain2.imgtk2=imgtk2\n",
        "    lmain3.configure(text=emotion_dict[show_text[0]],font=('arial',45,'bold'))\n",
        "\n",
        "    lmain2.configure(image=imgtk2)\n",
        "    lmain2.after(10, show_vid2)\n",
        "\n",
        "\n",
        "if __name__ == '__main__':\n",
        "    root=tk.Tk()\n",
        "    img = ImageTk.PhotoImage(Image.open(\"logo.png\"))\n",
        "    heading = Label(root,image=img,bg='black')\n",
        "\n",
        "    heading.pack()\n",
        "    heading2=Label(root,text=\"Photo to Emoji\",pady=20, font=('arial',45,'bold'),bg='black',fg='#CDCDCD')\n",
        "\n",
        "    heading2.pack()\n",
        "    lmain = tk.Label(master=root,padx=50,bd=10)\n",
        "    lmain2 = tk.Label(master=root,bd=10)\n",
        "    lmain3=tk.Label(master=root,bd=10,fg=\"#CDCDCD\",bg='black')\n",
        "    lmain.pack(side=LEFT)\n",
        "    lmain.place(x=50,y=250)\n",
        "    lmain3.pack()\n",
        "    lmain3.place(x=960,y=250)\n",
        "    lmain2.pack(side=RIGHT)\n",
        "    lmain2.place(x=900,y=350)\n",
        "\n",
        "    root.title(\"Photo To Emoji\")\n",
        "    root.geometry(\"1400x900+100+10\")\n",
        "    root['bg']='black'\n",
        "    exitbutton = Button(root, text='Quit',fg=\"red\",command=root.destroy,font=('arial',25,'bold')).pack(side = BOTTOM)\n",
        "    show_vid()\n",
        "    show_vid2()\n",
        "    root.mainloop()"
      ],
      "metadata": {
        "id": "0A91bm7RCAXP"
      },
      "execution_count": null,
      "outputs": []
    }
  ]
}